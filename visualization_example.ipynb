{
 "cells": [
  {
   "cell_type": "markdown",
   "metadata": {},
   "source": [
    "## How to visualize model data"
   ]
  },
  {
   "cell_type": "markdown",
   "metadata": {},
   "source": [
    "First step: Let's load some useful libs..if they are missing you can install them"
   ]
  },
  {
   "cell_type": "code",
   "execution_count": 11,
   "metadata": {},
   "outputs": [],
   "source": [
    "import numpy as np\n",
    "import pandas as pd\n",
    "from netCDF4 import Dataset\n",
    "import matplotlib.pyplot as plt\n",
    "from matplotlib.cm import get_cmap\n",
    "import xarray as xr"
   ]
  },
  {
   "cell_type": "markdown",
   "metadata": {},
   "source": [
    "Now let's load the NetCDF files as:"
   ]
  },
  {
   "cell_type": "code",
   "execution_count": 3,
   "metadata": {},
   "outputs": [
    {
     "data": {
      "text/plain": [
       "<class 'netCDF4._netCDF4.Dataset'>\n",
       "root group (NETCDF4 data model, file format HDF5):\n",
       "    dimensions(sizes): time(365), lon(38), lat(36)\n",
       "    variables(dimensions): float64 lon(lon), float64 lat(lat), float32 e(time, lat, lon), float32 mx2t24(time, lat, lon), float32 mn2t24(time, lat, lon), float32 tp(time, lat, lon), int64 time(time)\n",
       "    groups: "
      ]
     },
     "execution_count": 3,
     "metadata": {},
     "output_type": "execute_result"
    }
   ],
   "source": [
    "ncfile = Dataset('../irrigation/aquacrop-rea/test_mean.nc')\n",
    "ncfile"
   ]
  },
  {
   "cell_type": "code",
   "execution_count": 4,
   "metadata": {},
   "outputs": [
    {
     "data": {
      "text/plain": [
       "<class 'netCDF4._netCDF4.Variable'>\n",
       "float32 mx2t24(time, lat, lon)\n",
       "    _FillValue: nan\n",
       "unlimited dimensions: time\n",
       "current shape = (365, 36, 38)\n",
       "filling on"
      ]
     },
     "execution_count": 4,
     "metadata": {},
     "output_type": "execute_result"
    }
   ],
   "source": [
    "ncfile.variables[\"mx2t24\"]"
   ]
  },
  {
   "cell_type": "markdown",
   "metadata": {},
   "source": [
    "This way you can access all variables/dimensions and attributes in the netCDF file."
   ]
  },
  {
   "cell_type": "markdown",
   "metadata": {},
   "source": [
    "Another way to load the files is through xarray, as:"
   ]
  },
  {
   "cell_type": "code",
   "execution_count": 7,
   "metadata": {},
   "outputs": [
    {
     "data": {
      "text/html": [
       "<pre>&lt;xarray.Dataset&gt;\n",
       "Dimensions:  (lat: 36, lon: 38, time: 365)\n",
       "Coordinates:\n",
       "  * lon      (lon) float64 -2.0 -1.0 0.0 1.0 2.0 ... 31.0 32.0 33.0 34.0 35.0\n",
       "  * lat      (lat) float64 35.0 36.0 37.0 38.0 39.0 ... 66.0 67.0 68.0 69.0 70.0\n",
       "  * time     (time) datetime64[ns] 2022-01-02 2022-01-03 ... 2023-01-01\n",
       "Data variables:\n",
       "    e        (time, lat, lon) float32 ...\n",
       "    mx2t24   (time, lat, lon) float32 ...\n",
       "    mn2t24   (time, lat, lon) float32 ...\n",
       "    tp       (time, lat, lon) float32 ...</pre>"
      ],
      "text/plain": [
       "<xarray.Dataset>\n",
       "Dimensions:  (lat: 36, lon: 38, time: 365)\n",
       "Coordinates:\n",
       "  * lon      (lon) float64 -2.0 -1.0 0.0 1.0 2.0 ... 31.0 32.0 33.0 34.0 35.0\n",
       "  * lat      (lat) float64 35.0 36.0 37.0 38.0 39.0 ... 66.0 67.0 68.0 69.0 70.0\n",
       "  * time     (time) datetime64[ns] 2022-01-02 2022-01-03 ... 2023-01-01\n",
       "Data variables:\n",
       "    e        (time, lat, lon) float32 ...\n",
       "    mx2t24   (time, lat, lon) float32 ...\n",
       "    mn2t24   (time, lat, lon) float32 ...\n",
       "    tp       (time, lat, lon) float32 ..."
      ]
     },
     "execution_count": 7,
     "metadata": {},
     "output_type": "execute_result"
    }
   ],
   "source": [
    "ds = xr.open_dataset(\"../irrigation/aquacrop-rea/test_mean.nc\")\n",
    "ds"
   ]
  },
  {
   "cell_type": "code",
   "execution_count": 8,
   "metadata": {},
   "outputs": [
    {
     "data": {
      "text/html": [
       "<pre>&lt;xarray.DataArray &#x27;mx2t24&#x27; (time: 365, lat: 36, lon: 38)&gt;\n",
       "[499320 values with dtype=float32]\n",
       "Coordinates:\n",
       "  * lon      (lon) float64 -2.0 -1.0 0.0 1.0 2.0 ... 31.0 32.0 33.0 34.0 35.0\n",
       "  * lat      (lat) float64 35.0 36.0 37.0 38.0 39.0 ... 66.0 67.0 68.0 69.0 70.0\n",
       "  * time     (time) datetime64[ns] 2022-01-02 2022-01-03 ... 2023-01-01</pre>"
      ],
      "text/plain": [
       "<xarray.DataArray 'mx2t24' (time: 365, lat: 36, lon: 38)>\n",
       "[499320 values with dtype=float32]\n",
       "Coordinates:\n",
       "  * lon      (lon) float64 -2.0 -1.0 0.0 1.0 2.0 ... 31.0 32.0 33.0 34.0 35.0\n",
       "  * lat      (lat) float64 35.0 36.0 37.0 38.0 39.0 ... 66.0 67.0 68.0 69.0 70.0\n",
       "  * time     (time) datetime64[ns] 2022-01-02 2022-01-03 ... 2023-01-01"
      ]
     },
     "execution_count": 8,
     "metadata": {},
     "output_type": "execute_result"
    }
   ],
   "source": [
    "ds.mx2t24"
   ]
  },
  {
   "cell_type": "markdown",
   "metadata": {},
   "source": [
    "See the differences between using these methods! "
   ]
  },
  {
   "cell_type": "markdown",
   "metadata": {},
   "source": [
    "Why do we have two? xarray is newer, but now is getting more and more used, also because it makes it easier to do basic operations and save intermediate netCDFs. \n",
    "\n",
    "We are going to use this now."
   ]
  },
  {
   "cell_type": "code",
   "execution_count": 12,
   "metadata": {},
   "outputs": [
    {
     "data": {
      "text/html": [
       "<pre>&lt;xarray.DataArray &#x27;mx2t24&#x27; ()&gt;\n",
       "array(252.7375946)</pre>"
      ],
      "text/plain": [
       "<xarray.DataArray 'mx2t24' ()>\n",
       "array(252.7375946)"
      ]
     },
     "execution_count": 12,
     "metadata": {},
     "output_type": "execute_result"
    }
   ],
   "source": [
    "t2_max = ds.mx2t24"
   ]
  },
  {
   "cell_type": "markdown",
   "metadata": {},
   "source": [
    "Let's try a basic plot now, nothing fancy:"
   ]
  },
  {
   "cell_type": "code",
   "execution_count": 14,
   "metadata": {},
   "outputs": [
    {
     "ename": "TypeError",
     "evalue": "Input z must be 2D, not 3D",
     "output_type": "error",
     "traceback": [
      "\u001b[0;31m---------------------------------------------------------------------------\u001b[0m",
      "\u001b[0;31mTypeError\u001b[0m                                 Traceback (most recent call last)",
      "\u001b[0;32m<ipython-input-14-b937bbba7fe5>\u001b[0m in \u001b[0;36m<module>\u001b[0;34m\u001b[0m\n\u001b[1;32m      1\u001b[0m \u001b[0mlon\u001b[0m \u001b[0;34m=\u001b[0m \u001b[0mds\u001b[0m\u001b[0;34m.\u001b[0m\u001b[0mlon\u001b[0m\u001b[0;34m\u001b[0m\u001b[0;34m\u001b[0m\u001b[0m\n\u001b[1;32m      2\u001b[0m \u001b[0mlat\u001b[0m \u001b[0;34m=\u001b[0m \u001b[0mds\u001b[0m\u001b[0;34m.\u001b[0m\u001b[0mlat\u001b[0m\u001b[0;34m\u001b[0m\u001b[0;34m\u001b[0m\u001b[0m\n\u001b[0;32m----> 3\u001b[0;31m \u001b[0mplt\u001b[0m\u001b[0;34m.\u001b[0m\u001b[0mcontourf\u001b[0m\u001b[0;34m(\u001b[0m\u001b[0mlon\u001b[0m\u001b[0;34m,\u001b[0m\u001b[0mlat\u001b[0m\u001b[0;34m,\u001b[0m\u001b[0mt2_max\u001b[0m\u001b[0;34m)\u001b[0m\u001b[0;34m\u001b[0m\u001b[0;34m\u001b[0m\u001b[0m\n\u001b[0m",
      "\u001b[0;32m/usr/local/lib/python3.8/dist-packages/matplotlib/pyplot.py\u001b[0m in \u001b[0;36mcontourf\u001b[0;34m(data, *args, **kwargs)\u001b[0m\n\u001b[1;32m   2575\u001b[0m \u001b[0;34m@\u001b[0m\u001b[0m_copy_docstring_and_deprecators\u001b[0m\u001b[0;34m(\u001b[0m\u001b[0mAxes\u001b[0m\u001b[0;34m.\u001b[0m\u001b[0mcontourf\u001b[0m\u001b[0;34m)\u001b[0m\u001b[0;34m\u001b[0m\u001b[0;34m\u001b[0m\u001b[0m\n\u001b[1;32m   2576\u001b[0m \u001b[0;32mdef\u001b[0m \u001b[0mcontourf\u001b[0m\u001b[0;34m(\u001b[0m\u001b[0;34m*\u001b[0m\u001b[0margs\u001b[0m\u001b[0;34m,\u001b[0m \u001b[0mdata\u001b[0m\u001b[0;34m=\u001b[0m\u001b[0;32mNone\u001b[0m\u001b[0;34m,\u001b[0m \u001b[0;34m**\u001b[0m\u001b[0mkwargs\u001b[0m\u001b[0;34m)\u001b[0m\u001b[0;34m:\u001b[0m\u001b[0;34m\u001b[0m\u001b[0;34m\u001b[0m\u001b[0m\n\u001b[0;32m-> 2577\u001b[0;31m     __ret = gca().contourf(\n\u001b[0m\u001b[1;32m   2578\u001b[0m         \u001b[0;34m*\u001b[0m\u001b[0margs\u001b[0m\u001b[0;34m,\u001b[0m \u001b[0;34m**\u001b[0m\u001b[0;34m(\u001b[0m\u001b[0;34m{\u001b[0m\u001b[0;34m\"data\"\u001b[0m\u001b[0;34m:\u001b[0m \u001b[0mdata\u001b[0m\u001b[0;34m}\u001b[0m \u001b[0;32mif\u001b[0m \u001b[0mdata\u001b[0m \u001b[0;32mis\u001b[0m \u001b[0;32mnot\u001b[0m \u001b[0;32mNone\u001b[0m \u001b[0;32melse\u001b[0m \u001b[0;34m{\u001b[0m\u001b[0;34m}\u001b[0m\u001b[0;34m)\u001b[0m\u001b[0;34m,\u001b[0m\u001b[0;34m\u001b[0m\u001b[0;34m\u001b[0m\u001b[0m\n\u001b[1;32m   2579\u001b[0m         **kwargs)\n",
      "\u001b[0;32m/usr/local/lib/python3.8/dist-packages/matplotlib/__init__.py\u001b[0m in \u001b[0;36minner\u001b[0;34m(ax, data, *args, **kwargs)\u001b[0m\n\u001b[1;32m   1445\u001b[0m     \u001b[0;32mdef\u001b[0m \u001b[0minner\u001b[0m\u001b[0;34m(\u001b[0m\u001b[0max\u001b[0m\u001b[0;34m,\u001b[0m \u001b[0;34m*\u001b[0m\u001b[0margs\u001b[0m\u001b[0;34m,\u001b[0m \u001b[0mdata\u001b[0m\u001b[0;34m=\u001b[0m\u001b[0;32mNone\u001b[0m\u001b[0;34m,\u001b[0m \u001b[0;34m**\u001b[0m\u001b[0mkwargs\u001b[0m\u001b[0;34m)\u001b[0m\u001b[0;34m:\u001b[0m\u001b[0;34m\u001b[0m\u001b[0;34m\u001b[0m\u001b[0m\n\u001b[1;32m   1446\u001b[0m         \u001b[0;32mif\u001b[0m \u001b[0mdata\u001b[0m \u001b[0;32mis\u001b[0m \u001b[0;32mNone\u001b[0m\u001b[0;34m:\u001b[0m\u001b[0;34m\u001b[0m\u001b[0;34m\u001b[0m\u001b[0m\n\u001b[0;32m-> 1447\u001b[0;31m             \u001b[0;32mreturn\u001b[0m \u001b[0mfunc\u001b[0m\u001b[0;34m(\u001b[0m\u001b[0max\u001b[0m\u001b[0;34m,\u001b[0m \u001b[0;34m*\u001b[0m\u001b[0mmap\u001b[0m\u001b[0;34m(\u001b[0m\u001b[0msanitize_sequence\u001b[0m\u001b[0;34m,\u001b[0m \u001b[0margs\u001b[0m\u001b[0;34m)\u001b[0m\u001b[0;34m,\u001b[0m \u001b[0;34m**\u001b[0m\u001b[0mkwargs\u001b[0m\u001b[0;34m)\u001b[0m\u001b[0;34m\u001b[0m\u001b[0;34m\u001b[0m\u001b[0m\n\u001b[0m\u001b[1;32m   1448\u001b[0m \u001b[0;34m\u001b[0m\u001b[0m\n\u001b[1;32m   1449\u001b[0m         \u001b[0mbound\u001b[0m \u001b[0;34m=\u001b[0m \u001b[0mnew_sig\u001b[0m\u001b[0;34m.\u001b[0m\u001b[0mbind\u001b[0m\u001b[0;34m(\u001b[0m\u001b[0max\u001b[0m\u001b[0;34m,\u001b[0m \u001b[0;34m*\u001b[0m\u001b[0margs\u001b[0m\u001b[0;34m,\u001b[0m \u001b[0;34m**\u001b[0m\u001b[0mkwargs\u001b[0m\u001b[0;34m)\u001b[0m\u001b[0;34m\u001b[0m\u001b[0;34m\u001b[0m\u001b[0m\n",
      "\u001b[0;32m/usr/local/lib/python3.8/dist-packages/matplotlib/axes/_axes.py\u001b[0m in \u001b[0;36mcontourf\u001b[0;34m(self, *args, **kwargs)\u001b[0m\n\u001b[1;32m   6333\u001b[0m     \u001b[0;32mdef\u001b[0m \u001b[0mcontourf\u001b[0m\u001b[0;34m(\u001b[0m\u001b[0mself\u001b[0m\u001b[0;34m,\u001b[0m \u001b[0;34m*\u001b[0m\u001b[0margs\u001b[0m\u001b[0;34m,\u001b[0m \u001b[0;34m**\u001b[0m\u001b[0mkwargs\u001b[0m\u001b[0;34m)\u001b[0m\u001b[0;34m:\u001b[0m\u001b[0;34m\u001b[0m\u001b[0;34m\u001b[0m\u001b[0m\n\u001b[1;32m   6334\u001b[0m         \u001b[0mkwargs\u001b[0m\u001b[0;34m[\u001b[0m\u001b[0;34m'filled'\u001b[0m\u001b[0;34m]\u001b[0m \u001b[0;34m=\u001b[0m \u001b[0;32mTrue\u001b[0m\u001b[0;34m\u001b[0m\u001b[0;34m\u001b[0m\u001b[0m\n\u001b[0;32m-> 6335\u001b[0;31m         \u001b[0mcontours\u001b[0m \u001b[0;34m=\u001b[0m \u001b[0mmcontour\u001b[0m\u001b[0;34m.\u001b[0m\u001b[0mQuadContourSet\u001b[0m\u001b[0;34m(\u001b[0m\u001b[0mself\u001b[0m\u001b[0;34m,\u001b[0m \u001b[0;34m*\u001b[0m\u001b[0margs\u001b[0m\u001b[0;34m,\u001b[0m \u001b[0;34m**\u001b[0m\u001b[0mkwargs\u001b[0m\u001b[0;34m)\u001b[0m\u001b[0;34m\u001b[0m\u001b[0;34m\u001b[0m\u001b[0m\n\u001b[0m\u001b[1;32m   6336\u001b[0m         \u001b[0mself\u001b[0m\u001b[0;34m.\u001b[0m\u001b[0m_request_autoscale_view\u001b[0m\u001b[0;34m(\u001b[0m\u001b[0;34m)\u001b[0m\u001b[0;34m\u001b[0m\u001b[0;34m\u001b[0m\u001b[0m\n\u001b[1;32m   6337\u001b[0m         \u001b[0;32mreturn\u001b[0m \u001b[0mcontours\u001b[0m\u001b[0;34m\u001b[0m\u001b[0;34m\u001b[0m\u001b[0m\n",
      "\u001b[0;32m/usr/local/lib/python3.8/dist-packages/matplotlib/contour.py\u001b[0m in \u001b[0;36m__init__\u001b[0;34m(self, ax, levels, filled, linewidths, linestyles, hatches, alpha, origin, extent, cmap, colors, norm, vmin, vmax, extend, antialiased, nchunk, locator, transform, *args, **kwargs)\u001b[0m\n\u001b[1;32m    814\u001b[0m         \u001b[0mself\u001b[0m\u001b[0;34m.\u001b[0m\u001b[0m_transform\u001b[0m \u001b[0;34m=\u001b[0m \u001b[0mtransform\u001b[0m\u001b[0;34m\u001b[0m\u001b[0;34m\u001b[0m\u001b[0m\n\u001b[1;32m    815\u001b[0m \u001b[0;34m\u001b[0m\u001b[0m\n\u001b[0;32m--> 816\u001b[0;31m         \u001b[0mkwargs\u001b[0m \u001b[0;34m=\u001b[0m \u001b[0mself\u001b[0m\u001b[0;34m.\u001b[0m\u001b[0m_process_args\u001b[0m\u001b[0;34m(\u001b[0m\u001b[0;34m*\u001b[0m\u001b[0margs\u001b[0m\u001b[0;34m,\u001b[0m \u001b[0;34m**\u001b[0m\u001b[0mkwargs\u001b[0m\u001b[0;34m)\u001b[0m\u001b[0;34m\u001b[0m\u001b[0;34m\u001b[0m\u001b[0m\n\u001b[0m\u001b[1;32m    817\u001b[0m         \u001b[0mself\u001b[0m\u001b[0;34m.\u001b[0m\u001b[0m_process_levels\u001b[0m\u001b[0;34m(\u001b[0m\u001b[0;34m)\u001b[0m\u001b[0;34m\u001b[0m\u001b[0;34m\u001b[0m\u001b[0m\n\u001b[1;32m    818\u001b[0m \u001b[0;34m\u001b[0m\u001b[0m\n",
      "\u001b[0;32m/usr/local/lib/python3.8/dist-packages/matplotlib/contour.py\u001b[0m in \u001b[0;36m_process_args\u001b[0;34m(self, corner_mask, *args, **kwargs)\u001b[0m\n\u001b[1;32m   1428\u001b[0m             \u001b[0mself\u001b[0m\u001b[0;34m.\u001b[0m\u001b[0m_corner_mask\u001b[0m \u001b[0;34m=\u001b[0m \u001b[0mcorner_mask\u001b[0m\u001b[0;34m\u001b[0m\u001b[0;34m\u001b[0m\u001b[0m\n\u001b[1;32m   1429\u001b[0m \u001b[0;34m\u001b[0m\u001b[0m\n\u001b[0;32m-> 1430\u001b[0;31m             \u001b[0mx\u001b[0m\u001b[0;34m,\u001b[0m \u001b[0my\u001b[0m\u001b[0;34m,\u001b[0m \u001b[0mz\u001b[0m \u001b[0;34m=\u001b[0m \u001b[0mself\u001b[0m\u001b[0;34m.\u001b[0m\u001b[0m_contour_args\u001b[0m\u001b[0;34m(\u001b[0m\u001b[0margs\u001b[0m\u001b[0;34m,\u001b[0m \u001b[0mkwargs\u001b[0m\u001b[0;34m)\u001b[0m\u001b[0;34m\u001b[0m\u001b[0;34m\u001b[0m\u001b[0m\n\u001b[0m\u001b[1;32m   1431\u001b[0m \u001b[0;34m\u001b[0m\u001b[0m\n\u001b[1;32m   1432\u001b[0m             \u001b[0m_mask\u001b[0m \u001b[0;34m=\u001b[0m \u001b[0mma\u001b[0m\u001b[0;34m.\u001b[0m\u001b[0mgetmask\u001b[0m\u001b[0;34m(\u001b[0m\u001b[0mz\u001b[0m\u001b[0;34m)\u001b[0m\u001b[0;34m\u001b[0m\u001b[0;34m\u001b[0m\u001b[0m\n",
      "\u001b[0;32m/usr/local/lib/python3.8/dist-packages/matplotlib/contour.py\u001b[0m in \u001b[0;36m_contour_args\u001b[0;34m(self, args, kwargs)\u001b[0m\n\u001b[1;32m   1486\u001b[0m             \u001b[0margs\u001b[0m \u001b[0;34m=\u001b[0m \u001b[0margs\u001b[0m\u001b[0;34m[\u001b[0m\u001b[0;36m1\u001b[0m\u001b[0;34m:\u001b[0m\u001b[0;34m]\u001b[0m\u001b[0;34m\u001b[0m\u001b[0;34m\u001b[0m\u001b[0m\n\u001b[1;32m   1487\u001b[0m         \u001b[0;32melif\u001b[0m \u001b[0mNargs\u001b[0m \u001b[0;34m<=\u001b[0m \u001b[0;36m4\u001b[0m\u001b[0;34m:\u001b[0m\u001b[0;34m\u001b[0m\u001b[0;34m\u001b[0m\u001b[0m\n\u001b[0;32m-> 1488\u001b[0;31m             \u001b[0mx\u001b[0m\u001b[0;34m,\u001b[0m \u001b[0my\u001b[0m\u001b[0;34m,\u001b[0m \u001b[0mz\u001b[0m \u001b[0;34m=\u001b[0m \u001b[0mself\u001b[0m\u001b[0;34m.\u001b[0m\u001b[0m_check_xyz\u001b[0m\u001b[0;34m(\u001b[0m\u001b[0margs\u001b[0m\u001b[0;34m[\u001b[0m\u001b[0;34m:\u001b[0m\u001b[0;36m3\u001b[0m\u001b[0;34m]\u001b[0m\u001b[0;34m,\u001b[0m \u001b[0mkwargs\u001b[0m\u001b[0;34m)\u001b[0m\u001b[0;34m\u001b[0m\u001b[0;34m\u001b[0m\u001b[0m\n\u001b[0m\u001b[1;32m   1489\u001b[0m             \u001b[0margs\u001b[0m \u001b[0;34m=\u001b[0m \u001b[0margs\u001b[0m\u001b[0;34m[\u001b[0m\u001b[0;36m3\u001b[0m\u001b[0;34m:\u001b[0m\u001b[0;34m]\u001b[0m\u001b[0;34m\u001b[0m\u001b[0;34m\u001b[0m\u001b[0m\n\u001b[1;32m   1490\u001b[0m         \u001b[0;32melse\u001b[0m\u001b[0;34m:\u001b[0m\u001b[0;34m\u001b[0m\u001b[0;34m\u001b[0m\u001b[0m\n",
      "\u001b[0;32m/usr/local/lib/python3.8/dist-packages/matplotlib/contour.py\u001b[0m in \u001b[0;36m_check_xyz\u001b[0;34m(self, args, kwargs)\u001b[0m\n\u001b[1;32m   1517\u001b[0m \u001b[0;34m\u001b[0m\u001b[0m\n\u001b[1;32m   1518\u001b[0m         \u001b[0;32mif\u001b[0m \u001b[0mz\u001b[0m\u001b[0;34m.\u001b[0m\u001b[0mndim\u001b[0m \u001b[0;34m!=\u001b[0m \u001b[0;36m2\u001b[0m\u001b[0;34m:\u001b[0m\u001b[0;34m\u001b[0m\u001b[0;34m\u001b[0m\u001b[0m\n\u001b[0;32m-> 1519\u001b[0;31m             \u001b[0;32mraise\u001b[0m \u001b[0mTypeError\u001b[0m\u001b[0;34m(\u001b[0m\u001b[0;34mf\"Input z must be 2D, not {z.ndim}D\"\u001b[0m\u001b[0;34m)\u001b[0m\u001b[0;34m\u001b[0m\u001b[0;34m\u001b[0m\u001b[0m\n\u001b[0m\u001b[1;32m   1520\u001b[0m         \u001b[0;32mif\u001b[0m \u001b[0mz\u001b[0m\u001b[0;34m.\u001b[0m\u001b[0mshape\u001b[0m\u001b[0;34m[\u001b[0m\u001b[0;36m0\u001b[0m\u001b[0;34m]\u001b[0m \u001b[0;34m<\u001b[0m \u001b[0;36m2\u001b[0m \u001b[0;32mor\u001b[0m \u001b[0mz\u001b[0m\u001b[0;34m.\u001b[0m\u001b[0mshape\u001b[0m\u001b[0;34m[\u001b[0m\u001b[0;36m1\u001b[0m\u001b[0;34m]\u001b[0m \u001b[0;34m<\u001b[0m \u001b[0;36m2\u001b[0m\u001b[0;34m:\u001b[0m\u001b[0;34m\u001b[0m\u001b[0;34m\u001b[0m\u001b[0m\n\u001b[1;32m   1521\u001b[0m             raise TypeError(f\"Input z must be at least a (2, 2) shaped array, \"\n",
      "\u001b[0;31mTypeError\u001b[0m: Input z must be 2D, not 3D"
     ]
    },
    {
     "data": {
      "image/png": "[encoded data removed]",
      "text/plain": [
       "<Figure size 432x288 with 1 Axes>"
      ]
     },
     "metadata": {
      "needs_background": "light"
     },
     "output_type": "display_data"
    }
   ],
   "source": [
    "lon = ds.lon\n",
    "lat = ds.lat\n",
    "plt.contourf(lon,lat,t2_max)"
   ]
  },
  {
   "cell_type": "markdown",
   "metadata": {},
   "source": [
    "What went wrong? \"TypeError: Input z must be 2D, not 3D\" our T2_max has also the temporal dimension, so we must reduce it, e.g.:"
   ]
  },
  {
   "cell_type": "code",
   "execution_count": 15,
   "metadata": {},
   "outputs": [
    {
     "data": {
      "text/plain": [
       "<matplotlib.contour.QuadContourSet at 0x7f864963d520>"
      ]
     },
     "execution_count": 15,
     "metadata": {},
     "output_type": "execute_result"
    },
    {
     "data": {
      "image/png": "[encoded data removed]",
      "text/plain": [
       "<Figure size 432x288 with 1 Axes>"
      ]
     },
     "metadata": {
      "needs_background": "light"
     },
     "output_type": "display_data"
    }
   ],
   "source": [
    "plt.contourf(lon,lat,t2_max[2])"
   ]
  },
  {
   "cell_type": "markdown",
   "metadata": {},
   "source": [
    "This way we selected only the 3rd timestep in the dataset. While there is nothing fancy in this plot, we can already see the extent of our domain. \n",
    "\n",
    "Now play around, possible things to try (easy to difficult):\n",
    "1. redo the same plot, but for the average over all timesteps\n",
    "2. extract a specific longitude/latitude, and do a timeserie\n",
    "3. select a region and plot the average values as a timeserie\n",
    "\n",
    "\n",
    "If you get bored, try:\n",
    "1. load the wrf.nc dataset and do the same excercise\n",
    "2. compare the t2 diurnal maximum and minimum temperatures between wrf.nc and exp1.nc"
   ]
  },
  {
   "cell_type": "markdown",
   "metadata": {},
   "source": [
    "# Point 1:  average over all timesteps\n",
    "use either numpy or xarray built-in functions to do so."
   ]
  },
  {
   "cell_type": "code",
   "execution_count": 26,
   "metadata": {},
   "outputs": [
    {
     "data": {
      "text/plain": [
       "array([[ True,  True,  True, ...,  True,  True,  True],\n",
       "       [ True,  True,  True, ...,  True,  True,  True],\n",
       "       [ True,  True,  True, ...,  True,  True,  True],\n",
       "       ...,\n",
       "       [ True,  True,  True, ...,  True,  True,  True],\n",
       "       [ True,  True,  True, ...,  True,  True,  True],\n",
       "       [ True,  True,  True, ...,  True,  True,  True]])"
      ]
     },
     "execution_count": 26,
     "metadata": {},
     "output_type": "execute_result"
    }
   ],
   "source": [
    "# average over all timesteps:\n",
    "# numpy:\n",
    "t2_max_mean = np.mean(t2_max,axis=0)\n",
    "# xarray\n",
    "t2_max_mean_xr = t2_max.mean(dim=\"time\")\n",
    "\n",
    "## check if they are the same:\n",
    "t2_max_mean.values == t2_max_mean_xr.values"
   ]
  },
  {
   "cell_type": "markdown",
   "metadata": {},
   "source": [
    "Not so easy to understand if there is one value that is off... there are several ways, e.g."
   ]
  },
  {
   "cell_type": "code",
   "execution_count": 28,
   "metadata": {},
   "outputs": [
    {
     "data": {
      "text/plain": [
       "0"
      ]
     },
     "execution_count": 28,
     "metadata": {},
     "output_type": "execute_result"
    }
   ],
   "source": [
    "np.sum(t2_max_mean.values != t2_max_mean_xr.values)"
   ]
  },
  {
   "cell_type": "markdown",
   "metadata": {},
   "source": [
    "Check how many times the elements are not the same.\n",
    "\n",
    "Now that we are sure it worked:"
   ]
  },
  {
   "cell_type": "code",
   "execution_count": 29,
   "metadata": {},
   "outputs": [
    {
     "data": {
      "text/plain": [
       "<matplotlib.contour.QuadContourSet at 0x7f86494f38e0>"
      ]
     },
     "execution_count": 29,
     "metadata": {},
     "output_type": "execute_result"
    },
    {
     "data": {
      "image/png": "[encoded data removed]",
      "text/plain": [
       "<Figure size 432x288 with 1 Axes>"
      ]
     },
     "metadata": {
      "needs_background": "light"
     },
     "output_type": "display_data"
    }
   ],
   "source": [
    "plt.contourf(lon,lat,t2_max_mean_xr)"
   ]
  },
  {
   "cell_type": "markdown",
   "metadata": {},
   "source": [
    "# Point 2: timeserie of a location"
   ]
  },
  {
   "cell_type": "code",
   "execution_count": 36,
   "metadata": {},
   "outputs": [
    {
     "data": {
      "text/html": [
       "<pre>&lt;xarray.DataArray &#x27;mx2t24&#x27; (time: 365)&gt;\n",
       "array([285.68677, 285.31128, 283.28427, ..., 276.4406 , 276.70706, 277.12796],\n",
       "      dtype=float32)\n",
       "Coordinates:\n",
       "    lon      float64 7.0\n",
       "    lat      float64 51.0\n",
       "  * time     (time) datetime64[ns] 2022-01-02 2022-01-03 ... 2023-01-01</pre>"
      ],
      "text/plain": [
       "<xarray.DataArray 'mx2t24' (time: 365)>\n",
       "array([285.68677, 285.31128, 283.28427, ..., 276.4406 , 276.70706, 277.12796],\n",
       "      dtype=float32)\n",
       "Coordinates:\n",
       "    lon      float64 7.0\n",
       "    lat      float64 51.0\n",
       "  * time     (time) datetime64[ns] 2022-01-02 2022-01-03 ... 2023-01-01"
      ]
     },
     "execution_count": 36,
     "metadata": {},
     "output_type": "execute_result"
    }
   ],
   "source": [
    "Bonn_lon = 7.07011\n",
    "Bonn_lat = 50.7300\n",
    "T2max_bonn = t2_max.sel(lon=Bonn_lon, lat=Bonn_lat, method= \"nearest\")\n",
    "T2max_bonn"
   ]
  },
  {
   "cell_type": "code",
   "execution_count": 37,
   "metadata": {},
   "outputs": [
    {
     "name": "stderr",
     "output_type": "stream",
     "text": [
      "/usr/lib/python3/dist-packages/pandas/plotting/_matplotlib/converter.py:103: FutureWarning: Using an implicitly registered datetime converter for a matplotlib plotting method. The converter was registered by pandas on import. Future versions of pandas will require you to explicitly register matplotlib converters.\n",
      "\n",
      "To register the converters:\n",
      "\t>>> from pandas.plotting import register_matplotlib_converters\n",
      "\t>>> register_matplotlib_converters()\n",
      "  warnings.warn(msg, FutureWarning)\n"
     ]
    },
    {
     "data": {
      "text/plain": [
       "[<matplotlib.lines.Line2D at 0x7f864944ef70>]"
      ]
     },
     "execution_count": 37,
     "metadata": {},
     "output_type": "execute_result"
    },
    {
     "data": {
      "image/png": "[encoded data removed]",
      "text/plain": [
       "<Figure size 432x288 with 1 Axes>"
      ]
     },
     "metadata": {
      "needs_background": "light"
     },
     "output_type": "display_data"
    }
   ],
   "source": [
    "plt.plot(T2max_bonn.time, T2max_bonn)"
   ]
  },
  {
   "cell_type": "markdown",
   "metadata": {},
   "source": [
    "# Point 3: timeserie of a region\n",
    "\n",
    "Now plot the timeserie of an area of our domain."
   ]
  },
  {
   "cell_type": "code",
   "execution_count": 59,
   "metadata": {},
   "outputs": [
    {
     "data": {
      "text/html": [
       "<pre>&lt;xarray.DataArray &#x27;mx2t24&#x27; (time: 365, lat: 2, lon: 3)&gt;\n",
       "array([[[283.24683, 283.58505, 284.38892],\n",
       "        [286.88916, 285.68677, 283.57315]],\n",
       "\n",
       "       [[282.86783, 283.2299 , 284.68036],\n",
       "        [286.01224, 285.31128, 282.8144 ]],\n",
       "\n",
       "       ...,\n",
       "\n",
       "       [[276.68204, 276.04343, 275.65247],\n",
       "        [277.5133 , 276.70706, 276.06198]],\n",
       "\n",
       "       [[277.23752, 276.6497 , 276.23376],\n",
       "        [277.88113, 277.12796, 276.50558]]], dtype=float32)\n",
       "Coordinates:\n",
       "  * lon      (lon) float64 6.0 7.0 8.0\n",
       "  * lat      (lat) float64 50.0 51.0\n",
       "  * time     (time) datetime64[ns] 2022-01-02 2022-01-03 ... 2023-01-01</pre>"
      ],
      "text/plain": [
       "<xarray.DataArray 'mx2t24' (time: 365, lat: 2, lon: 3)>\n",
       "array([[[283.24683, 283.58505, 284.38892],\n",
       "        [286.88916, 285.68677, 283.57315]],\n",
       "\n",
       "       [[282.86783, 283.2299 , 284.68036],\n",
       "        [286.01224, 285.31128, 282.8144 ]],\n",
       "\n",
       "       ...,\n",
       "\n",
       "       [[276.68204, 276.04343, 275.65247],\n",
       "        [277.5133 , 276.70706, 276.06198]],\n",
       "\n",
       "       [[277.23752, 276.6497 , 276.23376],\n",
       "        [277.88113, 277.12796, 276.50558]]], dtype=float32)\n",
       "Coordinates:\n",
       "  * lon      (lon) float64 6.0 7.0 8.0\n",
       "  * lat      (lat) float64 50.0 51.0\n",
       "  * time     (time) datetime64[ns] 2022-01-02 2022-01-03 ... 2023-01-01"
      ]
     },
     "execution_count": 59,
     "metadata": {},
     "output_type": "execute_result"
    }
   ],
   "source": [
    "t2max_bonn_region = t2_max.sel(lon=slice(6, 8), lat=slice(49.5,51))\n",
    "t2max_bonn_region"
   ]
  },
  {
   "cell_type": "code",
   "execution_count": 63,
   "metadata": {},
   "outputs": [
    {
     "data": {
      "text/html": [
       "<pre>&lt;xarray.DataArray &#x27;mx2t24&#x27; (time: 365)&gt;\n",
       "array([284.56165, 284.15268, 282.3314 , 281.81253, 276.4787 , 278.79837,\n",
       "       278.1542 , 277.92444, 278.08084, 277.50153, 277.29367, 277.52274,\n",
       "       277.24887, 277.55884, 277.51865, 276.87094, 276.4653 , 276.28503,\n",
       "       276.4036 , 276.7771 , 277.07224, 277.65665, 277.45178, 277.80762,\n",
       "       278.0731 , 277.7101 , 277.70236, 277.98862, 277.64145, 277.40067,\n",
       "       277.62653, 279.1437 , 279.16623, 279.1577 , 279.1426 , 278.34158,\n",
       "       280.19205, 281.06372, 280.46942, 279.79736, 279.11594, 279.34192,\n",
       "       279.60037, 280.10623, 280.1821 , 279.71915, 279.85568, 279.93967,\n",
       "       279.94498, 279.6028 , 279.3855 , 279.77344, 280.04376, 280.06668,\n",
       "       280.53616, 280.82953, 280.8265 , 280.9492 , 281.0525 , 280.81384,\n",
       "       281.14853, 281.84387, 280.93005, 280.02475, 279.32144, 279.84875,\n",
       "       280.61227, 281.26294, 281.94998, 283.0834 , 284.0145 , 283.48233,\n",
       "       284.6942 , 285.23935, 284.98407, 285.18735, 285.01328, 284.76776,\n",
       "       284.44067, 284.00113, 284.26965, 284.57315, 284.89484, 284.21863,\n",
       "       284.0488 , 284.11716, 284.14075, 284.59036, 284.5153 , 284.4431 ,\n",
       "       279.65454, 280.33023, 278.5388 , 279.9691 , 282.4011 , 282.5397 ,\n",
       "       282.38635, 282.45535, 283.385  , 285.64844, 287.13382, 287.36243,\n",
       "       286.93588, 286.27817, 286.40872, 286.85773, 286.3912 , 286.69113,\n",
       "       286.74847, 286.79065, 286.38452, 286.08066, 286.70834, 286.54892,\n",
       "       286.1767 , 286.04868, 287.3264 , 287.27356, 287.57895, 287.33972,\n",
       "       286.78964, 287.9331 , 288.30222, 288.53568, 288.8386 , 290.014  ,\n",
       "       289.33047, 288.7371 , 289.73853, 290.13507, 291.05954, 291.2258 ,\n",
       "       291.3966 , 291.64023, 291.90753, 291.67236, 291.48196, 291.80188,\n",
       "       291.43256, 292.87598, 292.95825, 292.8988 , 292.90094, 293.17627,\n",
       "       293.05975, 293.7284 , 293.4766 , 293.2383 , 292.7457 , 292.78708,\n",
       "       292.86624, 291.9446 , 292.9581 , 296.4487 , 296.2831 , 295.5213 ,\n",
       "       292.429  , 291.9354 , 293.12198, 294.4358 , 295.30017, 295.121  ,\n",
       "       294.5438 , 294.46616, 294.336  , 295.25592, 295.7711 , 295.23788,\n",
       "       294.82938, 294.60226, 294.7147 , 294.41226, 293.84665, 293.63614,\n",
       "       293.4241 , 293.56873, 293.81644, 294.22046, 293.38937, 293.7487 ,\n",
       "       292.95804, 292.5571 , 294.62463, 295.21298, 295.69424, 296.63638,\n",
       "       294.2158 , 292.40317, 292.204  , 291.59073, 295.34555, 294.9403 ,\n",
       "       295.9568 , 295.97458, 295.29407, 295.74988, 297.58975, 298.38596,\n",
       "       298.31577, 297.70605, 297.81332, 298.0946 , 298.7178 , 299.33887,\n",
       "       299.05344, 298.3737 , 298.73917, 299.18307, 299.7529 , 299.79712,\n",
       "       299.00525, 298.45813, 299.05228, 298.84427, 298.47266, 298.80637,\n",
       "       299.47354, 298.80283, 298.76697, 298.4613 , 298.80432, 298.74435,\n",
       "       298.21503, 297.87778, 297.36517, 296.7797 , 296.37918, 296.98273,\n",
       "       296.23862, 296.00516, 296.59933, 297.56747, 297.7743 , 297.1536 ,\n",
       "       296.56897, 296.91068, 297.04282, 296.50388, 296.60815, 296.54974,\n",
       "       296.9664 , 297.26358, 297.7667 , 298.0311 , 297.647  , 296.61865,\n",
       "       296.44055, 295.87354, 295.7173 , 295.66614, 295.4351 , 295.06165,\n",
       "       294.82425, 294.84753, 295.3226 , 295.0472 , 295.13882, 294.9451 ,\n",
       "       295.35553, 295.47684, 295.15344, 294.89536, 294.8412 , 294.91312,\n",
       "       293.7803 , 293.62143, 292.9267 , 292.0819 , 291.7902 , 291.9116 ,\n",
       "       292.18448, 291.42294, 291.5192 , 291.72958, 290.8538 , 290.59512,\n",
       "       290.31174, 289.70526, 289.76315, 289.5062 , 289.05728, 289.50372,\n",
       "       289.92142, 289.6679 , 289.3995 , 289.01883, 288.4596 , 287.81766,\n",
       "       287.54517, 287.15414, 286.3999 , 286.32724, 285.94894, 285.32755,\n",
       "       285.3522 , 285.5543 , 285.42874, 285.04227, 284.58   , 284.40115,\n",
       "       284.08673, 283.58002, 282.77383, 283.14795, 283.67703, 283.3842 ,\n",
       "       283.37552, 283.2983 , 282.9835 , 282.64554, 282.07352, 282.44034,\n",
       "       281.58856, 281.105  , 281.54745, 281.37286, 281.1673 , 281.29263,\n",
       "       281.39352, 281.24478, 280.32718, 280.3207 , 280.64536, 280.68936,\n",
       "       280.30127, 279.94275, 280.02237, 279.64905, 279.78885, 280.11316,\n",
       "       280.26053, 280.59167, 280.17737, 279.78162, 279.3851 , 278.8804 ,\n",
       "       279.34348, 279.07574, 279.3016 , 279.5066 , 279.49667, 280.60715,\n",
       "       279.91104, 278.86508, 278.52094, 278.71533, 278.7164 , 278.28134,\n",
       "       278.28073, 278.7311 , 279.2029 , 278.48853, 278.06158, 278.61398,\n",
       "       277.80502, 278.01584, 278.0316 , 277.70334, 277.75433, 277.64993,\n",
       "       277.41476, 276.5612 , 276.24118, 276.4434 , 276.93927],\n",
       "      dtype=float32)\n",
       "Coordinates:\n",
       "  * time     (time) datetime64[ns] 2022-01-02 2022-01-03 ... 2023-01-01</pre>"
      ],
      "text/plain": [
       "<xarray.DataArray 'mx2t24' (time: 365)>\n",
       "array([284.56165, 284.15268, 282.3314 , 281.81253, 276.4787 , 278.79837,\n",
       "       278.1542 , 277.92444, 278.08084, 277.50153, 277.29367, 277.52274,\n",
       "       277.24887, 277.55884, 277.51865, 276.87094, 276.4653 , 276.28503,\n",
       "       276.4036 , 276.7771 , 277.07224, 277.65665, 277.45178, 277.80762,\n",
       "       278.0731 , 277.7101 , 277.70236, 277.98862, 277.64145, 277.40067,\n",
       "       277.62653, 279.1437 , 279.16623, 279.1577 , 279.1426 , 278.34158,\n",
       "       280.19205, 281.06372, 280.46942, 279.79736, 279.11594, 279.34192,\n",
       "       279.60037, 280.10623, 280.1821 , 279.71915, 279.85568, 279.93967,\n",
       "       279.94498, 279.6028 , 279.3855 , 279.77344, 280.04376, 280.06668,\n",
       "       280.53616, 280.82953, 280.8265 , 280.9492 , 281.0525 , 280.81384,\n",
       "       281.14853, 281.84387, 280.93005, 280.02475, 279.32144, 279.84875,\n",
       "       280.61227, 281.26294, 281.94998, 283.0834 , 284.0145 , 283.48233,\n",
       "       284.6942 , 285.23935, 284.98407, 285.18735, 285.01328, 284.76776,\n",
       "       284.44067, 284.00113, 284.26965, 284.57315, 284.89484, 284.21863,\n",
       "       284.0488 , 284.11716, 284.14075, 284.59036, 284.5153 , 284.4431 ,\n",
       "       279.65454, 280.33023, 278.5388 , 279.9691 , 282.4011 , 282.5397 ,\n",
       "       282.38635, 282.45535, 283.385  , 285.64844, 287.13382, 287.36243,\n",
       "       286.93588, 286.27817, 286.40872, 286.85773, 286.3912 , 286.69113,\n",
       "       286.74847, 286.79065, 286.38452, 286.08066, 286.70834, 286.54892,\n",
       "       286.1767 , 286.04868, 287.3264 , 287.27356, 287.57895, 287.33972,\n",
       "       286.78964, 287.9331 , 288.30222, 288.53568, 288.8386 , 290.014  ,\n",
       "       289.33047, 288.7371 , 289.73853, 290.13507, 291.05954, 291.2258 ,\n",
       "       291.3966 , 291.64023, 291.90753, 291.67236, 291.48196, 291.80188,\n",
       "       291.43256, 292.87598, 292.95825, 292.8988 , 292.90094, 293.17627,\n",
       "       293.05975, 293.7284 , 293.4766 , 293.2383 , 292.7457 , 292.78708,\n",
       "       292.86624, 291.9446 , 292.9581 , 296.4487 , 296.2831 , 295.5213 ,\n",
       "       292.429  , 291.9354 , 293.12198, 294.4358 , 295.30017, 295.121  ,\n",
       "       294.5438 , 294.46616, 294.336  , 295.25592, 295.7711 , 295.23788,\n",
       "       294.82938, 294.60226, 294.7147 , 294.41226, 293.84665, 293.63614,\n",
       "       293.4241 , 293.56873, 293.81644, 294.22046, 293.38937, 293.7487 ,\n",
       "       292.95804, 292.5571 , 294.62463, 295.21298, 295.69424, 296.63638,\n",
       "       294.2158 , 292.40317, 292.204  , 291.59073, 295.34555, 294.9403 ,\n",
       "       295.9568 , 295.97458, 295.29407, 295.74988, 297.58975, 298.38596,\n",
       "       298.31577, 297.70605, 297.81332, 298.0946 , 298.7178 , 299.33887,\n",
       "       299.05344, 298.3737 , 298.73917, 299.18307, 299.7529 , 299.79712,\n",
       "       299.00525, 298.45813, 299.05228, 298.84427, 298.47266, 298.80637,\n",
       "       299.47354, 298.80283, 298.76697, 298.4613 , 298.80432, 298.74435,\n",
       "       298.21503, 297.87778, 297.36517, 296.7797 , 296.37918, 296.98273,\n",
       "       296.23862, 296.00516, 296.59933, 297.56747, 297.7743 , 297.1536 ,\n",
       "       296.56897, 296.91068, 297.04282, 296.50388, 296.60815, 296.54974,\n",
       "       296.9664 , 297.26358, 297.7667 , 298.0311 , 297.647  , 296.61865,\n",
       "       296.44055, 295.87354, 295.7173 , 295.66614, 295.4351 , 295.06165,\n",
       "       294.82425, 294.84753, 295.3226 , 295.0472 , 295.13882, 294.9451 ,\n",
       "       295.35553, 295.47684, 295.15344, 294.89536, 294.8412 , 294.91312,\n",
       "       293.7803 , 293.62143, 292.9267 , 292.0819 , 291.7902 , 291.9116 ,\n",
       "       292.18448, 291.42294, 291.5192 , 291.72958, 290.8538 , 290.59512,\n",
       "       290.31174, 289.70526, 289.76315, 289.5062 , 289.05728, 289.50372,\n",
       "       289.92142, 289.6679 , 289.3995 , 289.01883, 288.4596 , 287.81766,\n",
       "       287.54517, 287.15414, 286.3999 , 286.32724, 285.94894, 285.32755,\n",
       "       285.3522 , 285.5543 , 285.42874, 285.04227, 284.58   , 284.40115,\n",
       "       284.08673, 283.58002, 282.77383, 283.14795, 283.67703, 283.3842 ,\n",
       "       283.37552, 283.2983 , 282.9835 , 282.64554, 282.07352, 282.44034,\n",
       "       281.58856, 281.105  , 281.54745, 281.37286, 281.1673 , 281.29263,\n",
       "       281.39352, 281.24478, 280.32718, 280.3207 , 280.64536, 280.68936,\n",
       "       280.30127, 279.94275, 280.02237, 279.64905, 279.78885, 280.11316,\n",
       "       280.26053, 280.59167, 280.17737, 279.78162, 279.3851 , 278.8804 ,\n",
       "       279.34348, 279.07574, 279.3016 , 279.5066 , 279.49667, 280.60715,\n",
       "       279.91104, 278.86508, 278.52094, 278.71533, 278.7164 , 278.28134,\n",
       "       278.28073, 278.7311 , 279.2029 , 278.48853, 278.06158, 278.61398,\n",
       "       277.80502, 278.01584, 278.0316 , 277.70334, 277.75433, 277.64993,\n",
       "       277.41476, 276.5612 , 276.24118, 276.4434 , 276.93927],\n",
       "      dtype=float32)\n",
       "Coordinates:\n",
       "  * time     (time) datetime64[ns] 2022-01-02 2022-01-03 ... 2023-01-01"
      ]
     },
     "execution_count": 63,
     "metadata": {},
     "output_type": "execute_result"
    }
   ],
   "source": [
    "t2max_bonn_avg = t2max_bonn_region.mean(dim=(\"lon\",\"lat\"))\n",
    "t2max_bonn_avg"
   ]
  },
  {
   "cell_type": "code",
   "execution_count": 64,
   "metadata": {},
   "outputs": [
    {
     "data": {
      "text/plain": [
       "[<matplotlib.lines.Line2D at 0x7f86450aa3d0>]"
      ]
     },
     "execution_count": 64,
     "metadata": {},
     "output_type": "execute_result"
    },
    {
     "data": {
      "image/png": "[encoded data removed]",
      "text/plain": [
       "<Figure size 432x288 with 1 Axes>"
      ]
     },
     "metadata": {
      "needs_background": "light"
     },
     "output_type": "display_data"
    }
   ],
   "source": [
    "plt.plot(t2max_bonn_avg.time,t2max_bonn_avg)"
   ]
  },
  {
   "cell_type": "markdown",
   "metadata": {},
   "source": [
    "Now, let's compare it with the results of only Bonn (point 2)"
   ]
  },
  {
   "cell_type": "code",
   "execution_count": 67,
   "metadata": {},
   "outputs": [
    {
     "data": {
      "text/plain": [
       "<matplotlib.legend.Legend at 0x7f8645516f10>"
      ]
     },
     "execution_count": 67,
     "metadata": {},
     "output_type": "execute_result"
    },
    {
     "data": {
      "image/png": "[encoded data removed]",
      "text/plain": [
       "<Figure size 432x288 with 1 Axes>"
      ]
     },
     "metadata": {
      "needs_background": "light"
     },
     "output_type": "display_data"
    }
   ],
   "source": [
    "plt.plot(t2max_bonn_avg.time,t2max_bonn_avg, label=\"regional average\")\n",
    "plt.plot(T2max_bonn.time, T2max_bonn, label=\"Bonn\")\n",
    "plt.ylabel(\"T2_max [K]\")\n",
    "plt.legend()"
   ]
  },
  {
   "cell_type": "code",
   "execution_count": 69,
   "metadata": {},
   "outputs": [
    {
     "data": {
      "text/plain": [
       "<matplotlib.legend.Legend at 0x7f8647064730>"
      ]
     },
     "execution_count": 69,
     "metadata": {},
     "output_type": "execute_result"
    },
    {
     "data": {
      "image/png": "[encoded data removed]",
      "text/plain": [
       "<Figure size 432x288 with 1 Axes>"
      ]
     },
     "metadata": {
      "needs_background": "light"
     },
     "output_type": "display_data"
    }
   ],
   "source": [
    "plt.plot(t2max_bonn_avg.time,t2max_bonn_avg-T2max_bonn,label = \"difference\")\n",
    "plt.ylabel(r'$\\Delta$ T2_max [K]')\n",
    "plt.legend()"
   ]
  },
  {
   "cell_type": "code",
   "execution_count": null,
   "metadata": {},
   "outputs": [],
   "source": []
  }
 ],
 "metadata": {
  "kernelspec": {
   "display_name": "Python 3",
   "language": "python",
   "name": "python3"
  },
  "language_info": {
   "codemirror_mode": {
    "name": "ipython",
    "version": 3
   },
   "file_extension": ".py",
   "mimetype": "text/x-python",
   "name": "python",
   "nbconvert_exporter": "python",
   "pygments_lexer": "ipython3",
   "version": "3.8.10"
  }
 },
 "nbformat": 4,
 "nbformat_minor": 5
}
